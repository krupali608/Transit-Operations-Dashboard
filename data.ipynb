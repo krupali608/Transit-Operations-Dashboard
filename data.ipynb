{
 "cells": [
  {
   "cell_type": "code",
   "execution_count": 36,
   "metadata": {},
   "outputs": [],
   "source": [
    "import pandas as pd"
   ]
  },
  {
   "cell_type": "code",
   "execution_count": 37,
   "metadata": {},
   "outputs": [],
   "source": [
    "url = \"https://data.ny.gov/resource/kufs-yh3x.csv\""
   ]
  },
  {
   "cell_type": "code",
   "execution_count": 38,
   "metadata": {},
   "outputs": [],
   "source": [
    "df = pd.read_csv(url)"
   ]
  },
  {
   "cell_type": "code",
   "execution_count": 39,
   "metadata": {},
   "outputs": [
    {
     "data": {
      "text/html": [
       "<div>\n",
       "<style scoped>\n",
       "    .dataframe tbody tr th:only-of-type {\n",
       "        vertical-align: middle;\n",
       "    }\n",
       "\n",
       "    .dataframe tbody tr th {\n",
       "        vertical-align: top;\n",
       "    }\n",
       "\n",
       "    .dataframe thead th {\n",
       "        text-align: right;\n",
       "    }\n",
       "</style>\n",
       "<table border=\"1\" class=\"dataframe\">\n",
       "  <thead>\n",
       "    <tr style=\"text-align: right;\">\n",
       "      <th></th>\n",
       "      <th>year</th>\n",
       "      <th>month</th>\n",
       "      <th>timestamp</th>\n",
       "      <th>day_of_week</th>\n",
       "      <th>hour_of_day</th>\n",
       "      <th>route_id</th>\n",
       "      <th>direction</th>\n",
       "      <th>borough</th>\n",
       "      <th>route_type</th>\n",
       "      <th>stop_order</th>\n",
       "      <th>...</th>\n",
       "      <th>next_timepoint_stop_id</th>\n",
       "      <th>next_timepoint_stop_name</th>\n",
       "      <th>next_timepoint_stop_latitude</th>\n",
       "      <th>next_timepoint_stop_longitude</th>\n",
       "      <th>road_distance</th>\n",
       "      <th>average_travel_time</th>\n",
       "      <th>average_road_speed</th>\n",
       "      <th>bus_trip_count</th>\n",
       "      <th>timepoint_stop_georeference</th>\n",
       "      <th>next_timepoint_stop_georeference</th>\n",
       "    </tr>\n",
       "  </thead>\n",
       "  <tbody>\n",
       "    <tr>\n",
       "      <th>0</th>\n",
       "      <td>2025</td>\n",
       "      <td>3</td>\n",
       "      <td>2025-03-01T17:00:00.000</td>\n",
       "      <td>Thursday</td>\n",
       "      <td>17</td>\n",
       "      <td>B3</td>\n",
       "      <td>E</td>\n",
       "      <td>Brooklyn</td>\n",
       "      <td>Local</td>\n",
       "      <td>24</td>\n",
       "      <td>...</td>\n",
       "      <td>300220</td>\n",
       "      <td>AVENUE U/FLATBUSH AV</td>\n",
       "      <td>40.610106</td>\n",
       "      <td>-73.921794</td>\n",
       "      <td>1.290</td>\n",
       "      <td>13.070508</td>\n",
       "      <td>5.921727</td>\n",
       "      <td>26</td>\n",
       "      <td>POINT (-73.941954 40.600372)</td>\n",
       "      <td>POINT (-73.921794 40.610106)</td>\n",
       "    </tr>\n",
       "    <tr>\n",
       "      <th>1</th>\n",
       "      <td>2025</td>\n",
       "      <td>3</td>\n",
       "      <td>2025-03-01T10:00:00.000</td>\n",
       "      <td>Thursday</td>\n",
       "      <td>10</td>\n",
       "      <td>B84</td>\n",
       "      <td>S</td>\n",
       "      <td>Brooklyn</td>\n",
       "      <td>Local</td>\n",
       "      <td>1</td>\n",
       "      <td>...</td>\n",
       "      <td>300590</td>\n",
       "      <td>COZINE AV /ASHFORD ST</td>\n",
       "      <td>40.658352</td>\n",
       "      <td>-73.877775</td>\n",
       "      <td>0.724</td>\n",
       "      <td>4.416678</td>\n",
       "      <td>9.835442</td>\n",
       "      <td>6</td>\n",
       "      <td>POINT (-73.883617 40.666382)</td>\n",
       "      <td>POINT (-73.877775 40.658352)</td>\n",
       "    </tr>\n",
       "    <tr>\n",
       "      <th>2</th>\n",
       "      <td>2025</td>\n",
       "      <td>3</td>\n",
       "      <td>2025-03-01T18:00:00.000</td>\n",
       "      <td>Thursday</td>\n",
       "      <td>18</td>\n",
       "      <td>B84</td>\n",
       "      <td>S</td>\n",
       "      <td>Brooklyn</td>\n",
       "      <td>Local</td>\n",
       "      <td>1</td>\n",
       "      <td>...</td>\n",
       "      <td>300590</td>\n",
       "      <td>COZINE AV /ASHFORD ST</td>\n",
       "      <td>40.658352</td>\n",
       "      <td>-73.877775</td>\n",
       "      <td>0.724</td>\n",
       "      <td>6.199998</td>\n",
       "      <td>7.006455</td>\n",
       "      <td>7</td>\n",
       "      <td>POINT (-73.883617 40.666382)</td>\n",
       "      <td>POINT (-73.877775 40.658352)</td>\n",
       "    </tr>\n",
       "    <tr>\n",
       "      <th>3</th>\n",
       "      <td>2025</td>\n",
       "      <td>3</td>\n",
       "      <td>2025-03-01T10:00:00.000</td>\n",
       "      <td>Thursday</td>\n",
       "      <td>10</td>\n",
       "      <td>BXM1</td>\n",
       "      <td>S</td>\n",
       "      <td>Bronx</td>\n",
       "      <td>Express</td>\n",
       "      <td>29</td>\n",
       "      <td>...</td>\n",
       "      <td>403821</td>\n",
       "      <td>LEXINGTON AV / E 34 ST</td>\n",
       "      <td>40.746315</td>\n",
       "      <td>-73.979970</td>\n",
       "      <td>0.817</td>\n",
       "      <td>8.330304</td>\n",
       "      <td>5.884541</td>\n",
       "      <td>11</td>\n",
       "      <td>POINT (-73.972382 40.756659)</td>\n",
       "      <td>POINT (-73.97997 40.746315)</td>\n",
       "    </tr>\n",
       "    <tr>\n",
       "      <th>4</th>\n",
       "      <td>2025</td>\n",
       "      <td>3</td>\n",
       "      <td>2025-03-01T12:00:00.000</td>\n",
       "      <td>Thursday</td>\n",
       "      <td>12</td>\n",
       "      <td>M11</td>\n",
       "      <td>S</td>\n",
       "      <td>Manhattan</td>\n",
       "      <td>Local</td>\n",
       "      <td>7</td>\n",
       "      <td>...</td>\n",
       "      <td>401459</td>\n",
       "      <td>AMSTERDAM AV/W 129 ST</td>\n",
       "      <td>40.814859</td>\n",
       "      <td>-73.955250</td>\n",
       "      <td>0.441</td>\n",
       "      <td>4.593336</td>\n",
       "      <td>5.760523</td>\n",
       "      <td>20</td>\n",
       "      <td>POINT (-73.954283 40.819614)</td>\n",
       "      <td>POINT (-73.95525 40.814859)</td>\n",
       "    </tr>\n",
       "    <tr>\n",
       "      <th>5</th>\n",
       "      <td>2025</td>\n",
       "      <td>3</td>\n",
       "      <td>2025-03-01T15:00:00.000</td>\n",
       "      <td>Thursday</td>\n",
       "      <td>15</td>\n",
       "      <td>M50</td>\n",
       "      <td>E</td>\n",
       "      <td>Manhattan</td>\n",
       "      <td>Local</td>\n",
       "      <td>12</td>\n",
       "      <td>...</td>\n",
       "      <td>402175</td>\n",
       "      <td>E 50 ST/2 AV</td>\n",
       "      <td>40.754881</td>\n",
       "      <td>-73.968800</td>\n",
       "      <td>0.500</td>\n",
       "      <td>11.384724</td>\n",
       "      <td>2.635110</td>\n",
       "      <td>12</td>\n",
       "      <td>POINT (-73.977104 40.758431)</td>\n",
       "      <td>POINT (-73.9688 40.754881)</td>\n",
       "    </tr>\n",
       "    <tr>\n",
       "      <th>6</th>\n",
       "      <td>2025</td>\n",
       "      <td>3</td>\n",
       "      <td>2025-03-01T05:00:00.000</td>\n",
       "      <td>Thursday</td>\n",
       "      <td>5</td>\n",
       "      <td>Q15</td>\n",
       "      <td>N</td>\n",
       "      <td>Queens</td>\n",
       "      <td>Local</td>\n",
       "      <td>7</td>\n",
       "      <td>...</td>\n",
       "      <td>501166</td>\n",
       "      <td>150 ST/15 DR</td>\n",
       "      <td>40.785497</td>\n",
       "      <td>-73.813593</td>\n",
       "      <td>1.380</td>\n",
       "      <td>6.183336</td>\n",
       "      <td>13.390827</td>\n",
       "      <td>8</td>\n",
       "      <td>POINT (-73.815117 40.765633)</td>\n",
       "      <td>POINT (-73.813593 40.785497)</td>\n",
       "    </tr>\n",
       "    <tr>\n",
       "      <th>7</th>\n",
       "      <td>2025</td>\n",
       "      <td>3</td>\n",
       "      <td>2025-03-01T14:00:00.000</td>\n",
       "      <td>Thursday</td>\n",
       "      <td>14</td>\n",
       "      <td>Q15</td>\n",
       "      <td>N</td>\n",
       "      <td>Queens</td>\n",
       "      <td>Local</td>\n",
       "      <td>7</td>\n",
       "      <td>...</td>\n",
       "      <td>501166</td>\n",
       "      <td>150 ST/15 DR</td>\n",
       "      <td>40.785497</td>\n",
       "      <td>-73.813593</td>\n",
       "      <td>1.380</td>\n",
       "      <td>9.552090</td>\n",
       "      <td>8.668260</td>\n",
       "      <td>8</td>\n",
       "      <td>POINT (-73.815117 40.765633)</td>\n",
       "      <td>POINT (-73.813593 40.785497)</td>\n",
       "    </tr>\n",
       "    <tr>\n",
       "      <th>8</th>\n",
       "      <td>2025</td>\n",
       "      <td>3</td>\n",
       "      <td>2025-03-01T22:00:00.000</td>\n",
       "      <td>Thursday</td>\n",
       "      <td>22</td>\n",
       "      <td>Q7</td>\n",
       "      <td>E</td>\n",
       "      <td>Queens</td>\n",
       "      <td>Local</td>\n",
       "      <td>1</td>\n",
       "      <td>...</td>\n",
       "      <td>553297</td>\n",
       "      <td>LIBERTY AV/95 ST</td>\n",
       "      <td>40.680362</td>\n",
       "      <td>-73.844040</td>\n",
       "      <td>1.997</td>\n",
       "      <td>11.847918</td>\n",
       "      <td>10.113172</td>\n",
       "      <td>8</td>\n",
       "      <td>POINT (-73.871784 40.675497)</td>\n",
       "      <td>POINT (-73.84404 40.680362)</td>\n",
       "    </tr>\n",
       "    <tr>\n",
       "      <th>9</th>\n",
       "      <td>2025</td>\n",
       "      <td>3</td>\n",
       "      <td>2025-03-01T13:00:00.000</td>\n",
       "      <td>Thursday</td>\n",
       "      <td>13</td>\n",
       "      <td>QM6</td>\n",
       "      <td>W</td>\n",
       "      <td>Queens</td>\n",
       "      <td>Express</td>\n",
       "      <td>14</td>\n",
       "      <td>...</td>\n",
       "      <td>552508</td>\n",
       "      <td>UNION TPKE/MAIN ST</td>\n",
       "      <td>40.717576</td>\n",
       "      <td>-73.818372</td>\n",
       "      <td>2.108</td>\n",
       "      <td>14.050008</td>\n",
       "      <td>9.002132</td>\n",
       "      <td>4</td>\n",
       "      <td>POINT (-73.781349 40.729307)</td>\n",
       "      <td>POINT (-73.818372 40.717576)</td>\n",
       "    </tr>\n",
       "  </tbody>\n",
       "</table>\n",
       "<p>10 rows × 24 columns</p>\n",
       "</div>"
      ],
      "text/plain": [
       "   year  month                timestamp day_of_week  hour_of_day route_id  \\\n",
       "0  2025      3  2025-03-01T17:00:00.000    Thursday           17       B3   \n",
       "1  2025      3  2025-03-01T10:00:00.000    Thursday           10      B84   \n",
       "2  2025      3  2025-03-01T18:00:00.000    Thursday           18      B84   \n",
       "3  2025      3  2025-03-01T10:00:00.000    Thursday           10     BXM1   \n",
       "4  2025      3  2025-03-01T12:00:00.000    Thursday           12      M11   \n",
       "5  2025      3  2025-03-01T15:00:00.000    Thursday           15      M50   \n",
       "6  2025      3  2025-03-01T05:00:00.000    Thursday            5      Q15   \n",
       "7  2025      3  2025-03-01T14:00:00.000    Thursday           14      Q15   \n",
       "8  2025      3  2025-03-01T22:00:00.000    Thursday           22       Q7   \n",
       "9  2025      3  2025-03-01T13:00:00.000    Thursday           13      QM6   \n",
       "\n",
       "  direction    borough route_type  stop_order  ...  next_timepoint_stop_id  \\\n",
       "0         E   Brooklyn      Local          24  ...                  300220   \n",
       "1         S   Brooklyn      Local           1  ...                  300590   \n",
       "2         S   Brooklyn      Local           1  ...                  300590   \n",
       "3         S      Bronx    Express          29  ...                  403821   \n",
       "4         S  Manhattan      Local           7  ...                  401459   \n",
       "5         E  Manhattan      Local          12  ...                  402175   \n",
       "6         N     Queens      Local           7  ...                  501166   \n",
       "7         N     Queens      Local           7  ...                  501166   \n",
       "8         E     Queens      Local           1  ...                  553297   \n",
       "9         W     Queens    Express          14  ...                  552508   \n",
       "\n",
       "  next_timepoint_stop_name  next_timepoint_stop_latitude  \\\n",
       "0     AVENUE U/FLATBUSH AV                     40.610106   \n",
       "1    COZINE AV /ASHFORD ST                     40.658352   \n",
       "2    COZINE AV /ASHFORD ST                     40.658352   \n",
       "3   LEXINGTON AV / E 34 ST                     40.746315   \n",
       "4    AMSTERDAM AV/W 129 ST                     40.814859   \n",
       "5             E 50 ST/2 AV                     40.754881   \n",
       "6             150 ST/15 DR                     40.785497   \n",
       "7             150 ST/15 DR                     40.785497   \n",
       "8         LIBERTY AV/95 ST                     40.680362   \n",
       "9       UNION TPKE/MAIN ST                     40.717576   \n",
       "\n",
       "   next_timepoint_stop_longitude  road_distance average_travel_time  \\\n",
       "0                     -73.921794          1.290           13.070508   \n",
       "1                     -73.877775          0.724            4.416678   \n",
       "2                     -73.877775          0.724            6.199998   \n",
       "3                     -73.979970          0.817            8.330304   \n",
       "4                     -73.955250          0.441            4.593336   \n",
       "5                     -73.968800          0.500           11.384724   \n",
       "6                     -73.813593          1.380            6.183336   \n",
       "7                     -73.813593          1.380            9.552090   \n",
       "8                     -73.844040          1.997           11.847918   \n",
       "9                     -73.818372          2.108           14.050008   \n",
       "\n",
       "   average_road_speed  bus_trip_count   timepoint_stop_georeference  \\\n",
       "0            5.921727              26  POINT (-73.941954 40.600372)   \n",
       "1            9.835442               6  POINT (-73.883617 40.666382)   \n",
       "2            7.006455               7  POINT (-73.883617 40.666382)   \n",
       "3            5.884541              11  POINT (-73.972382 40.756659)   \n",
       "4            5.760523              20  POINT (-73.954283 40.819614)   \n",
       "5            2.635110              12  POINT (-73.977104 40.758431)   \n",
       "6           13.390827               8  POINT (-73.815117 40.765633)   \n",
       "7            8.668260               8  POINT (-73.815117 40.765633)   \n",
       "8           10.113172               8  POINT (-73.871784 40.675497)   \n",
       "9            9.002132               4  POINT (-73.781349 40.729307)   \n",
       "\n",
       "   next_timepoint_stop_georeference  \n",
       "0      POINT (-73.921794 40.610106)  \n",
       "1      POINT (-73.877775 40.658352)  \n",
       "2      POINT (-73.877775 40.658352)  \n",
       "3       POINT (-73.97997 40.746315)  \n",
       "4       POINT (-73.95525 40.814859)  \n",
       "5        POINT (-73.9688 40.754881)  \n",
       "6      POINT (-73.813593 40.785497)  \n",
       "7      POINT (-73.813593 40.785497)  \n",
       "8       POINT (-73.84404 40.680362)  \n",
       "9      POINT (-73.818372 40.717576)  \n",
       "\n",
       "[10 rows x 24 columns]"
      ]
     },
     "execution_count": 39,
     "metadata": {},
     "output_type": "execute_result"
    }
   ],
   "source": [
    "df.head(10)"
   ]
  },
  {
   "cell_type": "code",
   "execution_count": 40,
   "metadata": {},
   "outputs": [
    {
     "name": "stdout",
     "output_type": "stream",
     "text": [
      "No. of Rows and Columns (1000, 24)\n"
     ]
    }
   ],
   "source": [
    "print(\"No. of Rows and Columns\", df.shape)"
   ]
  },
  {
   "cell_type": "code",
   "execution_count": 41,
   "metadata": {},
   "outputs": [
    {
     "data": {
      "text/plain": [
       "['year',\n",
       " 'month',\n",
       " 'timestamp',\n",
       " 'day_of_week',\n",
       " 'hour_of_day',\n",
       " 'route_id',\n",
       " 'direction',\n",
       " 'borough',\n",
       " 'route_type',\n",
       " 'stop_order',\n",
       " 'timepoint_stop_id',\n",
       " 'timepoint_stop_name',\n",
       " 'timepoint_stop_latitude',\n",
       " 'timepoint_stop_longitude',\n",
       " 'next_timepoint_stop_id',\n",
       " 'next_timepoint_stop_name',\n",
       " 'next_timepoint_stop_latitude',\n",
       " 'next_timepoint_stop_longitude',\n",
       " 'road_distance',\n",
       " 'average_travel_time',\n",
       " 'average_road_speed',\n",
       " 'bus_trip_count',\n",
       " 'timepoint_stop_georeference',\n",
       " 'next_timepoint_stop_georeference']"
      ]
     },
     "execution_count": 41,
     "metadata": {},
     "output_type": "execute_result"
    }
   ],
   "source": [
    "df.columns.tolist()"
   ]
  },
  {
   "cell_type": "code",
   "execution_count": 42,
   "metadata": {},
   "outputs": [],
   "source": [
    "df['timestamp'] = pd.to_datetime(df['timestamp'])\n",
    "df['date'] = df['timestamp'].dt.date\n",
    "df['week'] = df['timestamp'].dt.isocalendar().week\n",
    "df['time_of_day'] = df['timestamp'].dt.hour"
   ]
  },
  {
   "cell_type": "code",
   "execution_count": 43,
   "metadata": {},
   "outputs": [
    {
     "data": {
      "text/html": [
       "<div>\n",
       "<style scoped>\n",
       "    .dataframe tbody tr th:only-of-type {\n",
       "        vertical-align: middle;\n",
       "    }\n",
       "\n",
       "    .dataframe tbody tr th {\n",
       "        vertical-align: top;\n",
       "    }\n",
       "\n",
       "    .dataframe thead th {\n",
       "        text-align: right;\n",
       "    }\n",
       "</style>\n",
       "<table border=\"1\" class=\"dataframe\">\n",
       "  <thead>\n",
       "    <tr style=\"text-align: right;\">\n",
       "      <th></th>\n",
       "      <th>year</th>\n",
       "      <th>month</th>\n",
       "      <th>timestamp</th>\n",
       "      <th>day_of_week</th>\n",
       "      <th>hour_of_day</th>\n",
       "      <th>route_id</th>\n",
       "      <th>direction</th>\n",
       "      <th>borough</th>\n",
       "      <th>route_type</th>\n",
       "      <th>stop_order</th>\n",
       "      <th>...</th>\n",
       "      <th>next_timepoint_stop_longitude</th>\n",
       "      <th>road_distance</th>\n",
       "      <th>average_travel_time</th>\n",
       "      <th>average_road_speed</th>\n",
       "      <th>bus_trip_count</th>\n",
       "      <th>timepoint_stop_georeference</th>\n",
       "      <th>next_timepoint_stop_georeference</th>\n",
       "      <th>date</th>\n",
       "      <th>week</th>\n",
       "      <th>time_of_day</th>\n",
       "    </tr>\n",
       "  </thead>\n",
       "  <tbody>\n",
       "    <tr>\n",
       "      <th>0</th>\n",
       "      <td>2025</td>\n",
       "      <td>3</td>\n",
       "      <td>2025-03-01 17:00:00</td>\n",
       "      <td>Thursday</td>\n",
       "      <td>17</td>\n",
       "      <td>B3</td>\n",
       "      <td>E</td>\n",
       "      <td>Brooklyn</td>\n",
       "      <td>Local</td>\n",
       "      <td>24</td>\n",
       "      <td>...</td>\n",
       "      <td>-73.921794</td>\n",
       "      <td>1.290</td>\n",
       "      <td>13.070508</td>\n",
       "      <td>5.921727</td>\n",
       "      <td>26</td>\n",
       "      <td>POINT (-73.941954 40.600372)</td>\n",
       "      <td>POINT (-73.921794 40.610106)</td>\n",
       "      <td>2025-03-01</td>\n",
       "      <td>9</td>\n",
       "      <td>17</td>\n",
       "    </tr>\n",
       "    <tr>\n",
       "      <th>1</th>\n",
       "      <td>2025</td>\n",
       "      <td>3</td>\n",
       "      <td>2025-03-01 10:00:00</td>\n",
       "      <td>Thursday</td>\n",
       "      <td>10</td>\n",
       "      <td>B84</td>\n",
       "      <td>S</td>\n",
       "      <td>Brooklyn</td>\n",
       "      <td>Local</td>\n",
       "      <td>1</td>\n",
       "      <td>...</td>\n",
       "      <td>-73.877775</td>\n",
       "      <td>0.724</td>\n",
       "      <td>4.416678</td>\n",
       "      <td>9.835442</td>\n",
       "      <td>6</td>\n",
       "      <td>POINT (-73.883617 40.666382)</td>\n",
       "      <td>POINT (-73.877775 40.658352)</td>\n",
       "      <td>2025-03-01</td>\n",
       "      <td>9</td>\n",
       "      <td>10</td>\n",
       "    </tr>\n",
       "    <tr>\n",
       "      <th>2</th>\n",
       "      <td>2025</td>\n",
       "      <td>3</td>\n",
       "      <td>2025-03-01 18:00:00</td>\n",
       "      <td>Thursday</td>\n",
       "      <td>18</td>\n",
       "      <td>B84</td>\n",
       "      <td>S</td>\n",
       "      <td>Brooklyn</td>\n",
       "      <td>Local</td>\n",
       "      <td>1</td>\n",
       "      <td>...</td>\n",
       "      <td>-73.877775</td>\n",
       "      <td>0.724</td>\n",
       "      <td>6.199998</td>\n",
       "      <td>7.006455</td>\n",
       "      <td>7</td>\n",
       "      <td>POINT (-73.883617 40.666382)</td>\n",
       "      <td>POINT (-73.877775 40.658352)</td>\n",
       "      <td>2025-03-01</td>\n",
       "      <td>9</td>\n",
       "      <td>18</td>\n",
       "    </tr>\n",
       "    <tr>\n",
       "      <th>3</th>\n",
       "      <td>2025</td>\n",
       "      <td>3</td>\n",
       "      <td>2025-03-01 10:00:00</td>\n",
       "      <td>Thursday</td>\n",
       "      <td>10</td>\n",
       "      <td>BXM1</td>\n",
       "      <td>S</td>\n",
       "      <td>Bronx</td>\n",
       "      <td>Express</td>\n",
       "      <td>29</td>\n",
       "      <td>...</td>\n",
       "      <td>-73.979970</td>\n",
       "      <td>0.817</td>\n",
       "      <td>8.330304</td>\n",
       "      <td>5.884541</td>\n",
       "      <td>11</td>\n",
       "      <td>POINT (-73.972382 40.756659)</td>\n",
       "      <td>POINT (-73.97997 40.746315)</td>\n",
       "      <td>2025-03-01</td>\n",
       "      <td>9</td>\n",
       "      <td>10</td>\n",
       "    </tr>\n",
       "    <tr>\n",
       "      <th>4</th>\n",
       "      <td>2025</td>\n",
       "      <td>3</td>\n",
       "      <td>2025-03-01 12:00:00</td>\n",
       "      <td>Thursday</td>\n",
       "      <td>12</td>\n",
       "      <td>M11</td>\n",
       "      <td>S</td>\n",
       "      <td>Manhattan</td>\n",
       "      <td>Local</td>\n",
       "      <td>7</td>\n",
       "      <td>...</td>\n",
       "      <td>-73.955250</td>\n",
       "      <td>0.441</td>\n",
       "      <td>4.593336</td>\n",
       "      <td>5.760523</td>\n",
       "      <td>20</td>\n",
       "      <td>POINT (-73.954283 40.819614)</td>\n",
       "      <td>POINT (-73.95525 40.814859)</td>\n",
       "      <td>2025-03-01</td>\n",
       "      <td>9</td>\n",
       "      <td>12</td>\n",
       "    </tr>\n",
       "  </tbody>\n",
       "</table>\n",
       "<p>5 rows × 27 columns</p>\n",
       "</div>"
      ],
      "text/plain": [
       "   year  month           timestamp day_of_week  hour_of_day route_id  \\\n",
       "0  2025      3 2025-03-01 17:00:00    Thursday           17       B3   \n",
       "1  2025      3 2025-03-01 10:00:00    Thursday           10      B84   \n",
       "2  2025      3 2025-03-01 18:00:00    Thursday           18      B84   \n",
       "3  2025      3 2025-03-01 10:00:00    Thursday           10     BXM1   \n",
       "4  2025      3 2025-03-01 12:00:00    Thursday           12      M11   \n",
       "\n",
       "  direction    borough route_type  stop_order  ...  \\\n",
       "0         E   Brooklyn      Local          24  ...   \n",
       "1         S   Brooklyn      Local           1  ...   \n",
       "2         S   Brooklyn      Local           1  ...   \n",
       "3         S      Bronx    Express          29  ...   \n",
       "4         S  Manhattan      Local           7  ...   \n",
       "\n",
       "   next_timepoint_stop_longitude road_distance  average_travel_time  \\\n",
       "0                     -73.921794         1.290            13.070508   \n",
       "1                     -73.877775         0.724             4.416678   \n",
       "2                     -73.877775         0.724             6.199998   \n",
       "3                     -73.979970         0.817             8.330304   \n",
       "4                     -73.955250         0.441             4.593336   \n",
       "\n",
       "   average_road_speed  bus_trip_count   timepoint_stop_georeference  \\\n",
       "0            5.921727              26  POINT (-73.941954 40.600372)   \n",
       "1            9.835442               6  POINT (-73.883617 40.666382)   \n",
       "2            7.006455               7  POINT (-73.883617 40.666382)   \n",
       "3            5.884541              11  POINT (-73.972382 40.756659)   \n",
       "4            5.760523              20  POINT (-73.954283 40.819614)   \n",
       "\n",
       "   next_timepoint_stop_georeference        date  week  time_of_day  \n",
       "0      POINT (-73.921794 40.610106)  2025-03-01     9           17  \n",
       "1      POINT (-73.877775 40.658352)  2025-03-01     9           10  \n",
       "2      POINT (-73.877775 40.658352)  2025-03-01     9           18  \n",
       "3       POINT (-73.97997 40.746315)  2025-03-01     9           10  \n",
       "4       POINT (-73.95525 40.814859)  2025-03-01     9           12  \n",
       "\n",
       "[5 rows x 27 columns]"
      ]
     },
     "execution_count": 43,
     "metadata": {},
     "output_type": "execute_result"
    }
   ],
   "source": [
    "df.head()"
   ]
  },
  {
   "cell_type": "code",
   "execution_count": 44,
   "metadata": {},
   "outputs": [
    {
     "data": {
      "text/plain": [
       "year                                0\n",
       "month                               0\n",
       "timestamp                           0\n",
       "day_of_week                         0\n",
       "hour_of_day                         0\n",
       "route_id                            0\n",
       "direction                           0\n",
       "borough                             0\n",
       "route_type                          0\n",
       "stop_order                          0\n",
       "timepoint_stop_id                   0\n",
       "timepoint_stop_name                 0\n",
       "timepoint_stop_latitude             0\n",
       "timepoint_stop_longitude            0\n",
       "next_timepoint_stop_id              0\n",
       "next_timepoint_stop_name            0\n",
       "next_timepoint_stop_latitude        0\n",
       "next_timepoint_stop_longitude       0\n",
       "road_distance                       0\n",
       "average_travel_time                 0\n",
       "average_road_speed                  0\n",
       "bus_trip_count                      0\n",
       "timepoint_stop_georeference         0\n",
       "next_timepoint_stop_georeference    0\n",
       "date                                0\n",
       "week                                0\n",
       "time_of_day                         0\n",
       "dtype: int64"
      ]
     },
     "execution_count": 44,
     "metadata": {},
     "output_type": "execute_result"
    }
   ],
   "source": [
    "df.isnull().sum()"
   ]
  },
  {
   "cell_type": "code",
   "execution_count": 45,
   "metadata": {},
   "outputs": [
    {
     "name": "stdout",
     "output_type": "stream",
     "text": [
      "<class 'pandas.core.frame.DataFrame'>\n",
      "RangeIndex: 1000 entries, 0 to 999\n",
      "Data columns (total 27 columns):\n",
      " #   Column                            Non-Null Count  Dtype         \n",
      "---  ------                            --------------  -----         \n",
      " 0   year                              1000 non-null   int64         \n",
      " 1   month                             1000 non-null   int64         \n",
      " 2   timestamp                         1000 non-null   datetime64[ns]\n",
      " 3   day_of_week                       1000 non-null   object        \n",
      " 4   hour_of_day                       1000 non-null   int64         \n",
      " 5   route_id                          1000 non-null   object        \n",
      " 6   direction                         1000 non-null   object        \n",
      " 7   borough                           1000 non-null   object        \n",
      " 8   route_type                        1000 non-null   object        \n",
      " 9   stop_order                        1000 non-null   int64         \n",
      " 10  timepoint_stop_id                 1000 non-null   int64         \n",
      " 11  timepoint_stop_name               1000 non-null   object        \n",
      " 12  timepoint_stop_latitude           1000 non-null   float64       \n",
      " 13  timepoint_stop_longitude          1000 non-null   float64       \n",
      " 14  next_timepoint_stop_id            1000 non-null   int64         \n",
      " 15  next_timepoint_stop_name          1000 non-null   object        \n",
      " 16  next_timepoint_stop_latitude      1000 non-null   float64       \n",
      " 17  next_timepoint_stop_longitude     1000 non-null   float64       \n",
      " 18  road_distance                     1000 non-null   float64       \n",
      " 19  average_travel_time               1000 non-null   float64       \n",
      " 20  average_road_speed                1000 non-null   float64       \n",
      " 21  bus_trip_count                    1000 non-null   int64         \n",
      " 22  timepoint_stop_georeference       1000 non-null   object        \n",
      " 23  next_timepoint_stop_georeference  1000 non-null   object        \n",
      " 24  date                              1000 non-null   object        \n",
      " 25  week                              1000 non-null   UInt32        \n",
      " 26  time_of_day                       1000 non-null   int32         \n",
      "dtypes: UInt32(1), datetime64[ns](1), float64(7), int32(1), int64(7), object(10)\n",
      "memory usage: 204.2+ KB\n"
     ]
    }
   ],
   "source": [
    "df.info()"
   ]
  },
  {
   "cell_type": "code",
   "execution_count": 46,
   "metadata": {},
   "outputs": [
    {
     "data": {
      "text/plain": [
       "(1000, 23)"
      ]
     },
     "execution_count": 46,
     "metadata": {},
     "output_type": "execute_result"
    }
   ],
   "source": [
    "df_cleaned = df.drop([\n",
    "    'timepoint_stop_latitude',\n",
    "    'timepoint_stop_longitude',\n",
    "    'next_timepoint_stop_latitude',\n",
    "    'next_timepoint_stop_longitude',\n",
    "], axis=1)\n",
    "\n",
    "df_cleaned.shape"
   ]
  },
  {
   "cell_type": "code",
   "execution_count": 47,
   "metadata": {},
   "outputs": [],
   "source": [
    "df_cleaned.to_csv(\"MTA_cleaned.csv\", index=False)"
   ]
  },
  {
   "cell_type": "markdown",
   "metadata": {
    "notebookRunGroups": {
     "groupValue": ""
    }
   },
   "source": [
    "## EXPLORATORY DATA ANALYSIS"
   ]
  },
  {
   "cell_type": "markdown",
   "metadata": {},
   "source": [
    "Basic Structure & Summary"
   ]
  },
  {
   "cell_type": "code",
   "execution_count": 48,
   "metadata": {},
   "outputs": [
    {
     "name": "stdout",
     "output_type": "stream",
     "text": [
      "<class 'pandas.core.frame.DataFrame'>\n",
      "RangeIndex: 1000 entries, 0 to 999\n",
      "Data columns (total 23 columns):\n",
      " #   Column                            Non-Null Count  Dtype         \n",
      "---  ------                            --------------  -----         \n",
      " 0   year                              1000 non-null   int64         \n",
      " 1   month                             1000 non-null   int64         \n",
      " 2   timestamp                         1000 non-null   datetime64[ns]\n",
      " 3   day_of_week                       1000 non-null   object        \n",
      " 4   hour_of_day                       1000 non-null   int64         \n",
      " 5   route_id                          1000 non-null   object        \n",
      " 6   direction                         1000 non-null   object        \n",
      " 7   borough                           1000 non-null   object        \n",
      " 8   route_type                        1000 non-null   object        \n",
      " 9   stop_order                        1000 non-null   int64         \n",
      " 10  timepoint_stop_id                 1000 non-null   int64         \n",
      " 11  timepoint_stop_name               1000 non-null   object        \n",
      " 12  next_timepoint_stop_id            1000 non-null   int64         \n",
      " 13  next_timepoint_stop_name          1000 non-null   object        \n",
      " 14  road_distance                     1000 non-null   float64       \n",
      " 15  average_travel_time               1000 non-null   float64       \n",
      " 16  average_road_speed                1000 non-null   float64       \n",
      " 17  bus_trip_count                    1000 non-null   int64         \n",
      " 18  timepoint_stop_georeference       1000 non-null   object        \n",
      " 19  next_timepoint_stop_georeference  1000 non-null   object        \n",
      " 20  date                              1000 non-null   object        \n",
      " 21  week                              1000 non-null   UInt32        \n",
      " 22  time_of_day                       1000 non-null   int32         \n",
      "dtypes: UInt32(1), datetime64[ns](1), float64(3), int32(1), int64(7), object(10)\n",
      "memory usage: 173.0+ KB\n"
     ]
    }
   ],
   "source": [
    "df_cleaned.info()"
   ]
  },
  {
   "cell_type": "code",
   "execution_count": 49,
   "metadata": {},
   "outputs": [
    {
     "data": {
      "text/html": [
       "<div>\n",
       "<style scoped>\n",
       "    .dataframe tbody tr th:only-of-type {\n",
       "        vertical-align: middle;\n",
       "    }\n",
       "\n",
       "    .dataframe tbody tr th {\n",
       "        vertical-align: top;\n",
       "    }\n",
       "\n",
       "    .dataframe thead th {\n",
       "        text-align: right;\n",
       "    }\n",
       "</style>\n",
       "<table border=\"1\" class=\"dataframe\">\n",
       "  <thead>\n",
       "    <tr style=\"text-align: right;\">\n",
       "      <th></th>\n",
       "      <th>year</th>\n",
       "      <th>month</th>\n",
       "      <th>timestamp</th>\n",
       "      <th>hour_of_day</th>\n",
       "      <th>stop_order</th>\n",
       "      <th>timepoint_stop_id</th>\n",
       "      <th>next_timepoint_stop_id</th>\n",
       "      <th>road_distance</th>\n",
       "      <th>average_travel_time</th>\n",
       "      <th>average_road_speed</th>\n",
       "      <th>bus_trip_count</th>\n",
       "      <th>week</th>\n",
       "      <th>time_of_day</th>\n",
       "    </tr>\n",
       "  </thead>\n",
       "  <tbody>\n",
       "    <tr>\n",
       "      <th>count</th>\n",
       "      <td>1000.0</td>\n",
       "      <td>1000.000000</td>\n",
       "      <td>1000</td>\n",
       "      <td>1000.000000</td>\n",
       "      <td>1000.000000</td>\n",
       "      <td>1000.000000</td>\n",
       "      <td>1000.00000</td>\n",
       "      <td>1000.000000</td>\n",
       "      <td>1000.000000</td>\n",
       "      <td>1000.000000</td>\n",
       "      <td>1000.000000</td>\n",
       "      <td>1000.0</td>\n",
       "      <td>1000.000000</td>\n",
       "    </tr>\n",
       "    <tr>\n",
       "      <th>mean</th>\n",
       "      <td>2025.0</td>\n",
       "      <td>3.535000</td>\n",
       "      <td>2025-03-18 02:41:45.600000</td>\n",
       "      <td>12.656000</td>\n",
       "      <td>18.128000</td>\n",
       "      <td>464647.131000</td>\n",
       "      <td>459717.86200</td>\n",
       "      <td>1.422115</td>\n",
       "      <td>9.649208</td>\n",
       "      <td>8.879102</td>\n",
       "      <td>13.784000</td>\n",
       "      <td>11.675</td>\n",
       "      <td>12.656000</td>\n",
       "    </tr>\n",
       "    <tr>\n",
       "      <th>min</th>\n",
       "      <td>2025.0</td>\n",
       "      <td>3.000000</td>\n",
       "      <td>2025-03-01 00:00:00</td>\n",
       "      <td>0.000000</td>\n",
       "      <td>1.000000</td>\n",
       "      <td>102613.000000</td>\n",
       "      <td>104299.00000</td>\n",
       "      <td>0.062000</td>\n",
       "      <td>0.537498</td>\n",
       "      <td>2.101690</td>\n",
       "      <td>1.000000</td>\n",
       "      <td>9.0</td>\n",
       "      <td>0.000000</td>\n",
       "    </tr>\n",
       "    <tr>\n",
       "      <th>25%</th>\n",
       "      <td>2025.0</td>\n",
       "      <td>3.000000</td>\n",
       "      <td>2025-03-01 13:00:00</td>\n",
       "      <td>8.000000</td>\n",
       "      <td>7.000000</td>\n",
       "      <td>306921.000000</td>\n",
       "      <td>300590.00000</td>\n",
       "      <td>0.724000</td>\n",
       "      <td>6.175089</td>\n",
       "      <td>6.488572</td>\n",
       "      <td>7.000000</td>\n",
       "      <td>9.0</td>\n",
       "      <td>8.000000</td>\n",
       "    </tr>\n",
       "    <tr>\n",
       "      <th>50%</th>\n",
       "      <td>2025.0</td>\n",
       "      <td>4.000000</td>\n",
       "      <td>2025-04-01 04:00:00</td>\n",
       "      <td>13.000000</td>\n",
       "      <td>20.000000</td>\n",
       "      <td>403447.000000</td>\n",
       "      <td>403821.00000</td>\n",
       "      <td>1.380000</td>\n",
       "      <td>8.996922</td>\n",
       "      <td>8.811675</td>\n",
       "      <td>12.000000</td>\n",
       "      <td>14.0</td>\n",
       "      <td>13.000000</td>\n",
       "    </tr>\n",
       "    <tr>\n",
       "      <th>75%</th>\n",
       "      <td>2025.0</td>\n",
       "      <td>4.000000</td>\n",
       "      <td>2025-04-01 14:00:00</td>\n",
       "      <td>18.000000</td>\n",
       "      <td>28.000000</td>\n",
       "      <td>550999.000000</td>\n",
       "      <td>551810.00000</td>\n",
       "      <td>2.108000</td>\n",
       "      <td>12.047052</td>\n",
       "      <td>10.919108</td>\n",
       "      <td>19.000000</td>\n",
       "      <td>14.0</td>\n",
       "      <td>18.000000</td>\n",
       "    </tr>\n",
       "    <tr>\n",
       "      <th>max</th>\n",
       "      <td>2025.0</td>\n",
       "      <td>4.000000</td>\n",
       "      <td>2025-04-01 23:00:00</td>\n",
       "      <td>23.000000</td>\n",
       "      <td>51.000000</td>\n",
       "      <td>982213.000000</td>\n",
       "      <td>984006.00000</td>\n",
       "      <td>2.695000</td>\n",
       "      <td>24.452778</td>\n",
       "      <td>18.622854</td>\n",
       "      <td>80.000000</td>\n",
       "      <td>14.0</td>\n",
       "      <td>23.000000</td>\n",
       "    </tr>\n",
       "    <tr>\n",
       "      <th>std</th>\n",
       "      <td>0.0</td>\n",
       "      <td>0.499023</td>\n",
       "      <td>NaN</td>\n",
       "      <td>6.182061</td>\n",
       "      <td>13.484786</td>\n",
       "      <td>235394.150494</td>\n",
       "      <td>198054.44503</td>\n",
       "      <td>0.710593</td>\n",
       "      <td>4.992176</td>\n",
       "      <td>3.112237</td>\n",
       "      <td>9.963364</td>\n",
       "      <td>2.495115</td>\n",
       "      <td>6.182061</td>\n",
       "    </tr>\n",
       "  </tbody>\n",
       "</table>\n",
       "</div>"
      ],
      "text/plain": [
       "         year        month                   timestamp  hour_of_day  \\\n",
       "count  1000.0  1000.000000                        1000  1000.000000   \n",
       "mean   2025.0     3.535000  2025-03-18 02:41:45.600000    12.656000   \n",
       "min    2025.0     3.000000         2025-03-01 00:00:00     0.000000   \n",
       "25%    2025.0     3.000000         2025-03-01 13:00:00     8.000000   \n",
       "50%    2025.0     4.000000         2025-04-01 04:00:00    13.000000   \n",
       "75%    2025.0     4.000000         2025-04-01 14:00:00    18.000000   \n",
       "max    2025.0     4.000000         2025-04-01 23:00:00    23.000000   \n",
       "std       0.0     0.499023                         NaN     6.182061   \n",
       "\n",
       "        stop_order  timepoint_stop_id  next_timepoint_stop_id  road_distance  \\\n",
       "count  1000.000000        1000.000000              1000.00000    1000.000000   \n",
       "mean     18.128000      464647.131000            459717.86200       1.422115   \n",
       "min       1.000000      102613.000000            104299.00000       0.062000   \n",
       "25%       7.000000      306921.000000            300590.00000       0.724000   \n",
       "50%      20.000000      403447.000000            403821.00000       1.380000   \n",
       "75%      28.000000      550999.000000            551810.00000       2.108000   \n",
       "max      51.000000      982213.000000            984006.00000       2.695000   \n",
       "std      13.484786      235394.150494            198054.44503       0.710593   \n",
       "\n",
       "       average_travel_time  average_road_speed  bus_trip_count      week  \\\n",
       "count          1000.000000         1000.000000     1000.000000    1000.0   \n",
       "mean              9.649208            8.879102       13.784000    11.675   \n",
       "min               0.537498            2.101690        1.000000       9.0   \n",
       "25%               6.175089            6.488572        7.000000       9.0   \n",
       "50%               8.996922            8.811675       12.000000      14.0   \n",
       "75%              12.047052           10.919108       19.000000      14.0   \n",
       "max              24.452778           18.622854       80.000000      14.0   \n",
       "std               4.992176            3.112237        9.963364  2.495115   \n",
       "\n",
       "       time_of_day  \n",
       "count  1000.000000  \n",
       "mean     12.656000  \n",
       "min       0.000000  \n",
       "25%       8.000000  \n",
       "50%      13.000000  \n",
       "75%      18.000000  \n",
       "max      23.000000  \n",
       "std       6.182061  "
      ]
     },
     "execution_count": 49,
     "metadata": {},
     "output_type": "execute_result"
    }
   ],
   "source": [
    "df_cleaned.describe()"
   ]
  },
  {
   "cell_type": "code",
   "execution_count": 50,
   "metadata": {},
   "outputs": [
    {
     "data": {
      "text/plain": [
       "borough\n",
       "Queens           416\n",
       "Bronx            156\n",
       "Brooklyn         145\n",
       "Manhattan        136\n",
       "Staten Island    102\n",
       "Other             45\n",
       "Name: count, dtype: int64"
      ]
     },
     "execution_count": 50,
     "metadata": {},
     "output_type": "execute_result"
    }
   ],
   "source": [
    "df_cleaned['borough'].value_counts()"
   ]
  },
  {
   "cell_type": "code",
   "execution_count": 52,
   "metadata": {},
   "outputs": [
    {
     "data": {
      "text/plain": [
       "Index(['year', 'month', 'timestamp', 'day_of_week', 'hour_of_day', 'route_id',\n",
       "       'direction', 'borough', 'route_type', 'stop_order', 'timepoint_stop_id',\n",
       "       'timepoint_stop_name', 'next_timepoint_stop_id',\n",
       "       'next_timepoint_stop_name', 'road_distance', 'average_travel_time',\n",
       "       'average_road_speed', 'bus_trip_count', 'timepoint_stop_georeference',\n",
       "       'next_timepoint_stop_georeference', 'date', 'week', 'time_of_day'],\n",
       "      dtype='object')"
      ]
     },
     "execution_count": 52,
     "metadata": {},
     "output_type": "execute_result"
    }
   ],
   "source": [
    "df_cleaned.columns\n"
   ]
  },
  {
   "cell_type": "markdown",
   "metadata": {},
   "source": [
    "ROUTE EFFICIENCY INDICATORS"
   ]
  },
  {
   "cell_type": "markdown",
   "metadata": {},
   "source": [
    "1. Route Coverage Overview"
   ]
  },
  {
   "cell_type": "code",
   "execution_count": 51,
   "metadata": {},
   "outputs": [
    {
     "name": "stdout",
     "output_type": "stream",
     "text": [
      "Unique Routes taken: 30\n"
     ]
    }
   ],
   "source": [
    "unique_routes = df_cleaned['route_id'].nunique()\n",
    "print(\"Unique Routes taken:\", unique_routes)"
   ]
  },
  {
   "cell_type": "code",
   "execution_count": 64,
   "metadata": {},
   "outputs": [
    {
     "data": {
      "text/plain": [
       "18"
      ]
     },
     "execution_count": 64,
     "metadata": {},
     "output_type": "execute_result"
    }
   ],
   "source": [
    "# Number of Unique Timepoint Stops\n",
    "df_cleaned['timepoint_stop_id'].nunique()"
   ]
  },
  {
   "cell_type": "markdown",
   "metadata": {},
   "source": [
    "2. Efficiency by Borough"
   ]
  },
  {
   "cell_type": "code",
   "execution_count": 74,
   "metadata": {},
   "outputs": [
    {
     "data": {
      "text/plain": [
       "borough\n",
       "Staten Island    12.840925\n",
       "Other            10.378152\n",
       "Bronx             8.959140\n",
       "Queens            8.728197\n",
       "Brooklyn          8.661513\n",
       "Manhattan         6.013497\n",
       "Name: average_road_speed, dtype: float64"
      ]
     },
     "execution_count": 74,
     "metadata": {},
     "output_type": "execute_result"
    }
   ],
   "source": [
    "# Average Road Speed per Borough\n",
    "df_cleaned.groupby('borough')['average_road_speed'].mean().sort_values(ascending=False)"
   ]
  },
  {
   "cell_type": "code",
   "execution_count": 75,
   "metadata": {},
   "outputs": [
    {
     "data": {
      "text/plain": [
       "borough\n",
       "Manhattan         6.152189\n",
       "Brooklyn          6.795692\n",
       "Other             8.084913\n",
       "Staten Island     9.351048\n",
       "Bronx             9.539512\n",
       "Queens           12.070535\n",
       "Name: average_travel_time, dtype: float64"
      ]
     },
     "execution_count": 75,
     "metadata": {},
     "output_type": "execute_result"
    }
   ],
   "source": [
    "# Average Travel Time per Borough\n",
    "df_cleaned.groupby('borough')['average_travel_time'].mean().sort_values()"
   ]
  },
  {
   "cell_type": "code",
   "execution_count": 76,
   "metadata": {},
   "outputs": [
    {
     "data": {
      "text/html": [
       "<div>\n",
       "<style scoped>\n",
       "    .dataframe tbody tr th:only-of-type {\n",
       "        vertical-align: middle;\n",
       "    }\n",
       "\n",
       "    .dataframe tbody tr th {\n",
       "        vertical-align: top;\n",
       "    }\n",
       "\n",
       "    .dataframe thead th {\n",
       "        text-align: right;\n",
       "    }\n",
       "</style>\n",
       "<table border=\"1\" class=\"dataframe\">\n",
       "  <thead>\n",
       "    <tr style=\"text-align: right;\">\n",
       "      <th></th>\n",
       "      <th>average_road_speed</th>\n",
       "      <th>average_travel_time</th>\n",
       "    </tr>\n",
       "    <tr>\n",
       "      <th>borough</th>\n",
       "      <th></th>\n",
       "      <th></th>\n",
       "    </tr>\n",
       "  </thead>\n",
       "  <tbody>\n",
       "    <tr>\n",
       "      <th>Bronx</th>\n",
       "      <td>8.959140</td>\n",
       "      <td>9.539512</td>\n",
       "    </tr>\n",
       "    <tr>\n",
       "      <th>Brooklyn</th>\n",
       "      <td>8.661513</td>\n",
       "      <td>6.795692</td>\n",
       "    </tr>\n",
       "    <tr>\n",
       "      <th>Manhattan</th>\n",
       "      <td>6.013497</td>\n",
       "      <td>6.152189</td>\n",
       "    </tr>\n",
       "    <tr>\n",
       "      <th>Other</th>\n",
       "      <td>10.378152</td>\n",
       "      <td>8.084913</td>\n",
       "    </tr>\n",
       "    <tr>\n",
       "      <th>Queens</th>\n",
       "      <td>8.728197</td>\n",
       "      <td>12.070535</td>\n",
       "    </tr>\n",
       "    <tr>\n",
       "      <th>Staten Island</th>\n",
       "      <td>12.840925</td>\n",
       "      <td>9.351048</td>\n",
       "    </tr>\n",
       "  </tbody>\n",
       "</table>\n",
       "</div>"
      ],
      "text/plain": [
       "               average_road_speed  average_travel_time\n",
       "borough                                               \n",
       "Bronx                    8.959140             9.539512\n",
       "Brooklyn                 8.661513             6.795692\n",
       "Manhattan                6.013497             6.152189\n",
       "Other                   10.378152             8.084913\n",
       "Queens                   8.728197            12.070535\n",
       "Staten Island           12.840925             9.351048"
      ]
     },
     "execution_count": 76,
     "metadata": {},
     "output_type": "execute_result"
    }
   ],
   "source": [
    "# Least Efficient Boroughs: low speed, high travel time\n",
    "df_cleaned.groupby('borough')[['average_road_speed', 'average_travel_time']].mean()"
   ]
  },
  {
   "cell_type": "markdown",
   "metadata": {},
   "source": [
    "3. Top VS Bottom Performing Routes"
   ]
  },
  {
   "cell_type": "code",
   "execution_count": 77,
   "metadata": {},
   "outputs": [
    {
     "data": {
      "text/plain": [
       "route_id\n",
       "S55     14.060189\n",
       "QM35    12.943468\n",
       "S61     12.879240\n",
       "QM36    12.848056\n",
       "S91     12.720028\n",
       "QM6     12.569030\n",
       "QM5     12.136031\n",
       "QM1     12.065601\n",
       "QM31    12.042754\n",
       "BX42    11.408313\n",
       "Name: average_road_speed, dtype: float64"
      ]
     },
     "execution_count": 77,
     "metadata": {},
     "output_type": "execute_result"
    }
   ],
   "source": [
    "# Top 10 Fastest Routes\n",
    "df_cleaned.groupby('route_id')['average_road_speed'].mean().sort_values(ascending=False).head(10)"
   ]
  },
  {
   "cell_type": "code",
   "execution_count": 78,
   "metadata": {},
   "outputs": [
    {
     "data": {
      "text/plain": [
       "route_id\n",
       "Q64     3.594580\n",
       "M50     4.524204\n",
       "M4      6.252295\n",
       "Q34     6.684747\n",
       "BX7     6.876935\n",
       "M11     6.963827\n",
       "M5      7.012514\n",
       "Q25     7.328090\n",
       "QM18    7.549765\n",
       "B84     7.991954\n",
       "Name: average_road_speed, dtype: float64"
      ]
     },
     "execution_count": 78,
     "metadata": {},
     "output_type": "execute_result"
    }
   ],
   "source": [
    "# Top 10 Slowest Routes\n",
    "df_cleaned.groupby('route_id')['average_road_speed'].mean().sort_values().head(10)"
   ]
  },
  {
   "cell_type": "code",
   "execution_count": 79,
   "metadata": {},
   "outputs": [
    {
     "data": {
      "text/plain": [
       "route_id\n",
       "Q34     19.976712\n",
       "Q25     18.876745\n",
       "QM17    16.624949\n",
       "QM18    15.672917\n",
       "BX7     14.287766\n",
       "Q7      13.475950\n",
       "Q8      12.008157\n",
       "S91     11.100314\n",
       "BX42    10.947435\n",
       "S61     10.936199\n",
       "Name: average_travel_time, dtype: float64"
      ]
     },
     "execution_count": 79,
     "metadata": {},
     "output_type": "execute_result"
    }
   ],
   "source": [
    "# Routes with Longest Average Travel Time\n",
    "df_cleaned.groupby('route_id')['average_travel_time'].mean().sort_values(ascending=False).head(10)"
   ]
  },
  {
   "cell_type": "markdown",
   "metadata": {},
   "source": [
    "4. Trip frequency Analysis"
   ]
  },
  {
   "cell_type": "code",
   "execution_count": 80,
   "metadata": {},
   "outputs": [
    {
     "data": {
      "text/plain": [
       "route_id\n",
       "Q64     1632\n",
       "Q25     1380\n",
       "B6      1310\n",
       "B3      1084\n",
       "M11      708\n",
       "Q7       597\n",
       "Q8       589\n",
       "BXM1     577\n",
       "BX7      550\n",
       "BX42     540\n",
       "Name: bus_trip_count, dtype: int64"
      ]
     },
     "execution_count": 80,
     "metadata": {},
     "output_type": "execute_result"
    }
   ],
   "source": [
    "# Total Bus Trip Count per Route\n",
    "df_cleaned.groupby('route_id')['bus_trip_count'].sum().sort_values(ascending=False).head(10)"
   ]
  },
  {
   "cell_type": "code",
   "execution_count": 81,
   "metadata": {},
   "outputs": [
    {
     "data": {
      "text/plain": [
       "day_of_week\n",
       "Thursday    12552\n",
       "Friday       1232\n",
       "Name: bus_trip_count, dtype: int64"
      ]
     },
     "execution_count": 81,
     "metadata": {},
     "output_type": "execute_result"
    }
   ],
   "source": [
    "# Total Trips by Day of Week\n",
    "df_cleaned.groupby('day_of_week')['bus_trip_count'].sum().sort_values(ascending=False)"
   ]
  },
  {
   "cell_type": "markdown",
   "metadata": {},
   "source": [
    "5. Time of Day Patterns"
   ]
  },
  {
   "cell_type": "code",
   "execution_count": 82,
   "metadata": {},
   "outputs": [
    {
     "data": {
      "text/plain": [
       "hour_of_day\n",
       "0      6.681886\n",
       "1      5.654109\n",
       "2      5.052780\n",
       "3      5.571092\n",
       "4      5.800926\n",
       "5      6.998197\n",
       "6      9.194088\n",
       "7     10.181466\n",
       "8     10.686904\n",
       "9      9.634626\n",
       "10     9.977577\n",
       "11     9.772054\n",
       "12     9.940251\n",
       "13    10.020892\n",
       "14    10.949713\n",
       "15    11.919731\n",
       "16    11.337208\n",
       "17    11.167713\n",
       "18    10.846285\n",
       "19    10.436707\n",
       "20     9.709770\n",
       "21     8.973730\n",
       "22     8.308571\n",
       "23     7.532586\n",
       "Name: average_travel_time, dtype: float64"
      ]
     },
     "execution_count": 82,
     "metadata": {},
     "output_type": "execute_result"
    }
   ],
   "source": [
    "# Average Travel Time by Hour\n",
    "df_cleaned.groupby('hour_of_day')['average_travel_time'].mean()"
   ]
  },
  {
   "cell_type": "code",
   "execution_count": 83,
   "metadata": {},
   "outputs": [
    {
     "data": {
      "text/plain": [
       "hour_of_day\n",
       "0     10.461319\n",
       "1     10.880308\n",
       "2     10.285895\n",
       "3     10.528590\n",
       "4     10.802918\n",
       "5     10.207989\n",
       "6     10.351337\n",
       "7      8.829317\n",
       "8      8.967885\n",
       "9      9.122343\n",
       "10     8.916665\n",
       "11     8.355470\n",
       "12     8.413944\n",
       "13     8.055043\n",
       "14     7.798736\n",
       "15     7.584355\n",
       "16     7.189275\n",
       "17     7.856083\n",
       "18     8.423559\n",
       "19     8.935001\n",
       "20     8.751096\n",
       "21     9.152380\n",
       "22     9.151040\n",
       "23     9.749900\n",
       "Name: average_road_speed, dtype: float64"
      ]
     },
     "execution_count": 83,
     "metadata": {},
     "output_type": "execute_result"
    }
   ],
   "source": [
    "# Average Speed by Hour\n",
    "df_cleaned.groupby('hour_of_day')['average_road_speed'].mean()"
   ]
  },
  {
   "cell_type": "markdown",
   "metadata": {},
   "source": [
    "6. Distance Consistency"
   ]
  },
  {
   "cell_type": "code",
   "execution_count": 84,
   "metadata": {},
   "outputs": [
    {
     "data": {
      "text/html": [
       "<div>\n",
       "<style scoped>\n",
       "    .dataframe tbody tr th:only-of-type {\n",
       "        vertical-align: middle;\n",
       "    }\n",
       "\n",
       "    .dataframe tbody tr th {\n",
       "        vertical-align: top;\n",
       "    }\n",
       "\n",
       "    .dataframe thead th {\n",
       "        text-align: right;\n",
       "    }\n",
       "</style>\n",
       "<table border=\"1\" class=\"dataframe\">\n",
       "  <thead>\n",
       "    <tr style=\"text-align: right;\">\n",
       "      <th></th>\n",
       "      <th>mean</th>\n",
       "      <th>std</th>\n",
       "    </tr>\n",
       "    <tr>\n",
       "      <th>route_id</th>\n",
       "      <th></th>\n",
       "      <th></th>\n",
       "    </tr>\n",
       "  </thead>\n",
       "  <tbody>\n",
       "    <tr>\n",
       "      <th>S61</th>\n",
       "      <td>2.315091</td>\n",
       "      <td>1.386452e-01</td>\n",
       "    </tr>\n",
       "    <tr>\n",
       "      <th>BXM1</th>\n",
       "      <td>0.920704</td>\n",
       "      <td>1.056462e-01</td>\n",
       "    </tr>\n",
       "    <tr>\n",
       "      <th>M5</th>\n",
       "      <td>1.081136</td>\n",
       "      <td>7.548544e-03</td>\n",
       "    </tr>\n",
       "    <tr>\n",
       "      <th>BX7</th>\n",
       "      <td>1.525852</td>\n",
       "      <td>3.620140e-04</td>\n",
       "    </tr>\n",
       "    <tr>\n",
       "      <th>BX42</th>\n",
       "      <td>2.021104</td>\n",
       "      <td>3.087093e-04</td>\n",
       "    </tr>\n",
       "    <tr>\n",
       "      <th>QM5</th>\n",
       "      <td>2.108000</td>\n",
       "      <td>3.931591e-16</td>\n",
       "    </tr>\n",
       "    <tr>\n",
       "      <th>QM35</th>\n",
       "      <td>2.108000</td>\n",
       "      <td>1.678499e-16</td>\n",
       "    </tr>\n",
       "    <tr>\n",
       "      <th>M50</th>\n",
       "      <td>0.500000</td>\n",
       "      <td>1.636935e-16</td>\n",
       "    </tr>\n",
       "    <tr>\n",
       "      <th>M4</th>\n",
       "      <td>0.501000</td>\n",
       "      <td>1.433292e-16</td>\n",
       "    </tr>\n",
       "    <tr>\n",
       "      <th>M11</th>\n",
       "      <td>0.441000</td>\n",
       "      <td>5.613842e-17</td>\n",
       "    </tr>\n",
       "  </tbody>\n",
       "</table>\n",
       "</div>"
      ],
      "text/plain": [
       "              mean           std\n",
       "route_id                        \n",
       "S61       2.315091  1.386452e-01\n",
       "BXM1      0.920704  1.056462e-01\n",
       "M5        1.081136  7.548544e-03\n",
       "BX7       1.525852  3.620140e-04\n",
       "BX42      2.021104  3.087093e-04\n",
       "QM5       2.108000  3.931591e-16\n",
       "QM35      2.108000  1.678499e-16\n",
       "M50       0.500000  1.636935e-16\n",
       "M4        0.501000  1.433292e-16\n",
       "M11       0.441000  5.613842e-17"
      ]
     },
     "execution_count": 84,
     "metadata": {},
     "output_type": "execute_result"
    }
   ],
   "source": [
    "# Mean and Std Dev of Road Distance per Route (identify route consistency)\n",
    "df_cleaned.groupby('route_id')['road_distance'].agg(['mean', 'std']).sort_values(by='std', ascending=False).head(10)"
   ]
  },
  {
   "cell_type": "markdown",
   "metadata": {},
   "source": [
    "7. Stop-Level Efficiecny(Advanced)"
   ]
  },
  {
   "cell_type": "code",
   "execution_count": 85,
   "metadata": {},
   "outputs": [
    {
     "data": {
      "text/plain": [
       "timepoint_stop_name\n",
       "KISSENA BLVD/JEWEL AV         115\n",
       "UNION TPKE/188 ST              99\n",
       "LIVONIA AV/ASHFORD ST          91\n",
       "150 ST/NORTHERN BLVD           90\n",
       "PITKIN AV /EUCLID AV           89\n",
       "BROADWAY/W 207 ST              67\n",
       "108 ST/QUEENS BLVD             55\n",
       "AVENUE U/NOSTRAND AV           54\n",
       "FOREST HILL RD/ROCKLAND AV     51\n",
       "RANDALL AV/EAST TREMONT AV     48\n",
       "Name: count, dtype: int64"
      ]
     },
     "execution_count": 85,
     "metadata": {},
     "output_type": "execute_result"
    }
   ],
   "source": [
    "# Most Frequently Used Timepoint Stops\n",
    "df_cleaned['timepoint_stop_name'].value_counts().head(10)"
   ]
  },
  {
   "cell_type": "code",
   "execution_count": 86,
   "metadata": {},
   "outputs": [
    {
     "data": {
      "text/plain": [
       "timepoint_stop_name           next_timepoint_stop_name                 \n",
       "KISSENA BLVD/JEWEL AV         MAIN ST/ROOSEVELT AV                         19.240213\n",
       "BEACH CHANNEL DR/BEACH 36 ST  ROCKAWAY BEACH BLVD/BEACH 92 ST              16.624949\n",
       "QUEENS BLVD/63 DR             QUEENS BLVD/UNION TPKE                       15.672917\n",
       "BROADWAY/W 207 ST             BROADWAY/W 181 ST                            14.287766\n",
       "PITKIN AV /EUCLID AV          LIBERTY AV/95 ST                             13.475950\n",
       "                              SEAVIEW AV /ERSKINE ST                       12.008157\n",
       "FOREST HILL RD/ROCKLAND AV    STATEN ISLAND MALL AT PLATINUM AV/PRIMARK    11.010810\n",
       "RANDALL AV/EAST TREMONT AV    HARDING AV/HOSMER AV                         10.947435\n",
       "UNION TPKE/188 ST             UNION TPKE/MAIN ST                           10.385041\n",
       "FOREST HILL RD/ROCKLAND AV    MARSH AV/RING RD                              9.682629\n",
       "Name: average_travel_time, dtype: float64"
      ]
     },
     "execution_count": 86,
     "metadata": {},
     "output_type": "execute_result"
    }
   ],
   "source": [
    "# Stop Pairs with High Travel Time (potential congestion)\n",
    "df_cleaned.groupby(['timepoint_stop_name', 'next_timepoint_stop_name'])['average_travel_time'].mean().sort_values(ascending=False).head(10)"
   ]
  },
  {
   "cell_type": "markdown",
   "metadata": {},
   "source": [
    "TIME - BASED TRENDS"
   ]
  },
  {
   "cell_type": "code",
   "execution_count": 72,
   "metadata": {},
   "outputs": [
    {
     "data": {
      "image/png": "[encoded data removed]",
      "text/plain": [
       "<Figure size 1200x500 with 1 Axes>"
      ]
     },
     "metadata": {},
     "output_type": "display_data"
    }
   ],
   "source": [
    "import matplotlib.pyplot as plt\n",
    "\n",
    "# 1️⃣ Total Bus Trips Over Time\n",
    "import matplotlib.pyplot as plt\n",
    "\n",
    "trip_counts_by_day = df_cleaned.groupby('date')['bus_trip_count'].sum()\n",
    "\n",
    "plt.figure(figsize=(12, 5))\n",
    "plt.plot(trip_counts_by_day.index, trip_counts_by_day.values, marker='o', color='tab:blue', label='Bus Trip Count')\n",
    "plt.title('Total Bus Trips Over Time')\n",
    "plt.xlabel('Date')\n",
    "plt.ylabel('Trip Count')\n",
    "plt.grid(True)\n",
    "\n",
    "# Annotate each point\n",
    "for i, value in enumerate(trip_counts_by_day.values):\n",
    "    plt.text(trip_counts_by_day.index[i], value + 2, str(value), ha='center', fontsize=8)\n",
    "\n",
    "plt.tight_layout()\n",
    "plt.show()"
   ]
  },
  {
   "cell_type": "code",
   "execution_count": 68,
   "metadata": {},
   "outputs": [
    {
     "data": {
      "image/png": "[encoded data removed]",
      "text/plain": [
       "<Figure size 800x500 with 1 Axes>"
      ]
     },
     "metadata": {},
     "output_type": "display_data"
    }
   ],
   "source": [
    "borough_counts = df_cleaned.groupby('borough')['bus_trip_count'].sum().sort_values(ascending=False)\n",
    "\n",
    "plt.figure(figsize=(8, 5))\n",
    "bars = plt.bar(borough_counts.index, borough_counts.values, color='skyblue')\n",
    "plt.title('Total Bus Trips by Borough')\n",
    "plt.xlabel('Borough')\n",
    "plt.ylabel('Total Trip Count')\n",
    "plt.grid(axis='y')\n",
    "\n",
    "# Annotate counts\n",
    "for bar in bars:\n",
    "    yval = bar.get_height()\n",
    "    plt.text(bar.get_x() + bar.get_width()/2, yval + 2, int(yval), ha='center', fontsize=9)\n",
    "\n",
    "plt.tight_layout()\n",
    "plt.show()"
   ]
  },
  {
   "cell_type": "code",
   "execution_count": 56,
   "metadata": {},
   "outputs": [
    {
     "data": {
      "image/png": "[encoded data removed]",
      "text/plain": [
       "<Figure size 1200x500 with 1 Axes>"
      ]
     },
     "metadata": {},
     "output_type": "display_data"
    }
   ],
   "source": [
    "hour_counts = df_cleaned.groupby('hour_of_day')['bus_trip_count'].sum().sort_index()\n",
    "\n",
    "plt.figure(figsize=(12, 5))\n",
    "bars = plt.bar(hour_counts.index.astype(str), hour_counts.values, color='orange')\n",
    "plt.title('Total Bus Trips by Hour of Day')\n",
    "plt.xlabel('Hour of Day')\n",
    "plt.ylabel('Total Trip Count')\n",
    "plt.grid(axis='y')\n",
    "\n",
    "# Annotate counts\n",
    "for bar in bars:\n",
    "    yval = bar.get_height()\n",
    "    plt.text(bar.get_x() + bar.get_width()/2, yval + 2, int(yval), ha='center', fontsize=8)\n",
    "\n",
    "plt.tight_layout()\n",
    "plt.show()\n"
   ]
  },
  {
   "cell_type": "code",
   "execution_count": 57,
   "metadata": {},
   "outputs": [
    {
     "data": {
      "image/png": "[encoded data removed]",
      "text/plain": [
       "<Figure size 1000x500 with 1 Axes>"
      ]
     },
     "metadata": {},
     "output_type": "display_data"
    }
   ],
   "source": [
    "route_counts = df_cleaned.groupby('route_id')['bus_trip_count'].sum().sort_values(ascending=False).head(10)\n",
    "\n",
    "plt.figure(figsize=(10, 5))\n",
    "bars = plt.bar(route_counts.index, route_counts.values, color='mediumseagreen')\n",
    "plt.title('Top 10 Routes by Total Bus Trips')\n",
    "plt.xlabel('Route ID')\n",
    "plt.ylabel('Total Trip Count')\n",
    "plt.grid(axis='y')\n",
    "\n",
    "# Annotate counts\n",
    "for bar in bars:\n",
    "    yval = bar.get_height()\n",
    "    plt.text(bar.get_x() + bar.get_width()/2, yval + 2, int(yval), ha='center', fontsize=9)\n",
    "\n",
    "plt.tight_layout()\n",
    "plt.show()\n"
   ]
  },
  {
   "cell_type": "code",
   "execution_count": 58,
   "metadata": {},
   "outputs": [
    {
     "data": {
      "image/png": "[encoded data removed]",
      "text/plain": [
       "<Figure size 640x480 with 1 Axes>"
      ]
     },
     "metadata": {},
     "output_type": "display_data"
    }
   ],
   "source": [
    "df_cleaned.groupby('route_type')['average_road_speed'].mean().plot(kind='bar', title='Avg. Speed by Route Type')\n",
    "plt.ylabel('Speed (mph or km/h)')\n",
    "plt.tight_layout()\n",
    "plt.show()"
   ]
  },
  {
   "cell_type": "code",
   "execution_count": 73,
   "metadata": {},
   "outputs": [
    {
     "data": {
      "image/png": "[encoded data removed]",
      "text/plain": [
       "<Figure size 700x500 with 2 Axes>"
      ]
     },
     "metadata": {},
     "output_type": "display_data"
    }
   ],
   "source": [
    "# 6️⃣ Correlation Heatmap of Numeric Variables\n",
    "\n",
    "import seaborn as sns\n",
    "\n",
    "corr = df_cleaned[['road_distance', 'average_travel_time', 'average_road_speed', 'bus_trip_count']].corr()\n",
    "\n",
    "plt.figure(figsize=(7, 5))\n",
    "sns.heatmap(corr, annot=True, cmap='coolwarm', linewidths=0.5)\n",
    "plt.title('Correlation Matrix of Key Metrics')\n",
    "plt.tight_layout()\n",
    "plt.show()"
   ]
  },
  {
   "cell_type": "code",
   "execution_count": 60,
   "metadata": {},
   "outputs": [
    {
     "data": {
      "image/png": "[encoded data removed]",
      "text/plain": [
       "<Figure size 800x500 with 1 Axes>"
      ]
     },
     "metadata": {},
     "output_type": "display_data"
    }
   ],
   "source": [
    "avg_speed_borough = df_cleaned.groupby('borough')['average_road_speed'].mean().sort_values(ascending=False)\n",
    "\n",
    "# Plot\n",
    "plt.figure(figsize=(8, 5))\n",
    "bars = plt.bar(avg_speed_borough.index, avg_speed_borough.values, color='teal')\n",
    "plt.title('Average Road Speed by Borough')\n",
    "plt.xlabel('Borough')\n",
    "plt.ylabel('Average Speed (mph)')\n",
    "plt.grid(axis='y')\n",
    "\n",
    "for bar in bars:\n",
    "    yval = bar.get_height()\n",
    "    plt.text(bar.get_x() + bar.get_width()/2, yval + 0.2, round(yval, 2), ha='center', fontsize=9)\n",
    "\n",
    "plt.tight_layout()\n",
    "plt.show()"
   ]
  },
  {
   "cell_type": "code",
   "execution_count": 95,
   "metadata": {},
   "outputs": [
    {
     "data": {
      "image/png": "[encoded data removed]",
      "text/plain": [
       "<Figure size 640x480 with 1 Axes>"
      ]
     },
     "metadata": {},
     "output_type": "display_data"
    }
   ],
   "source": [
    "import matplotlib.pyplot as plt\n",
    "\n",
    "incident_summary.plot(kind='bar', color='crimson')\n",
    "plt.title('Simulated Incident Reasons')\n",
    "plt.xlabel('Incident Type')\n",
    "plt.ylabel('Count')\n",
    "plt.xticks(rotation=30)\n",
    "plt.tight_layout()\n",
    "plt.show()"
   ]
  },
  {
   "cell_type": "markdown",
   "metadata": {},
   "source": [
    "## COMPLIANCE CHECK"
   ]
  },
  {
   "cell_type": "code",
   "execution_count": 88,
   "metadata": {},
   "outputs": [
    {
     "name": "stdout",
     "output_type": "stream",
     "text": [
      " Compliance rate: 50.00%\n"
     ]
    }
   ],
   "source": [
    "df_cleaned['compliance_flag'] = (\n",
    "    (df_cleaned['average_road_speed'] >= 5) & \n",
    "    (df_cleaned['average_travel_time'] <= 10)\n",
    ")\n",
    "\n",
    "compliance_rate = df_cleaned['compliance_flag'].mean() * 100\n",
    "print(f\" Compliance rate: {compliance_rate:.2f}%\")"
   ]
  },
  {
   "cell_type": "markdown",
   "metadata": {},
   "source": [
    "## Downtime Alert Simulation\n"
   ]
  },
  {
   "cell_type": "code",
   "execution_count": 89,
   "metadata": {},
   "outputs": [
    {
     "name": "stdout",
     "output_type": "stream",
     "text": [
      "19 downtime incidents detected\n"
     ]
    },
    {
     "data": {
      "text/html": [
       "<div>\n",
       "<style scoped>\n",
       "    .dataframe tbody tr th:only-of-type {\n",
       "        vertical-align: middle;\n",
       "    }\n",
       "\n",
       "    .dataframe tbody tr th {\n",
       "        vertical-align: top;\n",
       "    }\n",
       "\n",
       "    .dataframe thead th {\n",
       "        text-align: right;\n",
       "    }\n",
       "</style>\n",
       "<table border=\"1\" class=\"dataframe\">\n",
       "  <thead>\n",
       "    <tr style=\"text-align: right;\">\n",
       "      <th></th>\n",
       "      <th>route_id</th>\n",
       "      <th>date</th>\n",
       "      <th>average_road_speed</th>\n",
       "      <th>bus_trip_count</th>\n",
       "    </tr>\n",
       "  </thead>\n",
       "  <tbody>\n",
       "    <tr>\n",
       "      <th>5</th>\n",
       "      <td>M50</td>\n",
       "      <td>2025-03-01</td>\n",
       "      <td>2.635110</td>\n",
       "      <td>12</td>\n",
       "    </tr>\n",
       "    <tr>\n",
       "      <th>31</th>\n",
       "      <td>Q64</td>\n",
       "      <td>2025-03-01</td>\n",
       "      <td>2.920831</td>\n",
       "      <td>24</td>\n",
       "    </tr>\n",
       "    <tr>\n",
       "      <th>200</th>\n",
       "      <td>Q64</td>\n",
       "      <td>2025-03-01</td>\n",
       "      <td>2.959557</td>\n",
       "      <td>72</td>\n",
       "    </tr>\n",
       "    <tr>\n",
       "      <th>298</th>\n",
       "      <td>Q64</td>\n",
       "      <td>2025-03-01</td>\n",
       "      <td>2.101690</td>\n",
       "      <td>15</td>\n",
       "    </tr>\n",
       "    <tr>\n",
       "      <th>323</th>\n",
       "      <td>Q64</td>\n",
       "      <td>2025-03-01</td>\n",
       "      <td>2.994918</td>\n",
       "      <td>38</td>\n",
       "    </tr>\n",
       "  </tbody>\n",
       "</table>\n",
       "</div>"
      ],
      "text/plain": [
       "    route_id        date  average_road_speed  bus_trip_count\n",
       "5        M50  2025-03-01            2.635110              12\n",
       "31       Q64  2025-03-01            2.920831              24\n",
       "200      Q64  2025-03-01            2.959557              72\n",
       "298      Q64  2025-03-01            2.101690              15\n",
       "323      Q64  2025-03-01            2.994918              38"
      ]
     },
     "execution_count": 89,
     "metadata": {},
     "output_type": "execute_result"
    }
   ],
   "source": [
    "downtime_df = df_cleaned[\n",
    "    (df_cleaned['bus_trip_count'] == 0) | \n",
    "    (df_cleaned['average_road_speed'] < 3)\n",
    "]\n",
    "\n",
    "print(f\"{len(downtime_df)} downtime incidents detected\")\n",
    "downtime_df[['route_id', 'date', 'average_road_speed', 'bus_trip_count']].head()"
   ]
  },
  {
   "cell_type": "markdown",
   "metadata": {},
   "source": [
    "## Equipment Performance – Underperforming Routes"
   ]
  },
  {
   "cell_type": "code",
   "execution_count": 90,
   "metadata": {},
   "outputs": [
    {
     "data": {
      "text/plain": [
       "route_id\n",
       "Q64    40\n",
       "M50    21\n",
       "M4      1\n",
       "Name: count, dtype: int64"
      ]
     },
     "execution_count": 90,
     "metadata": {},
     "output_type": "execute_result"
    }
   ],
   "source": [
    "underperforming_routes = df_cleaned[df_cleaned['average_road_speed'] < 4]\n",
    "top_under_routes = underperforming_routes['route_id'].value_counts().head(5)\n",
    "top_under_routes"
   ]
  },
  {
   "cell_type": "markdown",
   "metadata": {},
   "source": [
    "## Incident Trend Simulation"
   ]
  },
  {
   "cell_type": "code",
   "execution_count": 93,
   "metadata": {},
   "outputs": [
    {
     "name": "stdout",
     "output_type": "stream",
     "text": [
      "incident_reason\n",
      "Normal           943\n",
      "Heavy Traffic     57\n",
      "Name: count, dtype: int64\n"
     ]
    }
   ],
   "source": [
    "# A copy to avoid modifying the original\n",
    "incident_df = df_cleaned.copy()\n",
    "\n",
    "# Defining function to assign incident reasons\n",
    "def classify_incident(row):\n",
    "    if row['average_road_speed'] < 3 and row['bus_trip_count'] < 5:\n",
    "        return 'Equipment Malfunction'\n",
    "    elif row['average_travel_time'] > 20:\n",
    "        return 'Heavy Traffic'\n",
    "    elif row['average_road_speed'] > 20 and row['bus_trip_count'] < 3:\n",
    "        return 'Skipped Stop'\n",
    "    elif row['average_travel_time'] < 3 and row['road_distance'] > 2:\n",
    "        return 'Unexpected Speed Spike'\n",
    "    else:\n",
    "        return 'Normal'\n",
    "\n",
    "# Apply to each row\n",
    "incident_df['incident_reason'] = incident_df.apply(classify_incident, axis=1)\n",
    "\n",
    "# View counts of simulated incidents\n",
    "incident_summary = incident_df['incident_reason'].value_counts()\n",
    "print(incident_summary)"
   ]
  },
  {
   "cell_type": "code",
   "execution_count": 94,
   "metadata": {},
   "outputs": [
    {
     "data": {
      "text/plain": [
       "borough\n",
       "Queens    116\n",
       "Bronx      14\n",
       "Name: count, dtype: int64"
      ]
     },
     "execution_count": 94,
     "metadata": {},
     "output_type": "execute_result"
    }
   ],
   "source": [
    "incident_df = df_cleaned[df_cleaned['average_travel_time'] > 15]\n",
    "incidents_by_borough = incident_df['borough'].value_counts()\n",
    "incidents_by_borough"
   ]
  }
 ],
 "metadata": {
  "kernelspec": {
   "display_name": "Python 3",
   "language": "python",
   "name": "python3"
  },
  "language_info": {
   "codemirror_mode": {
    "name": "ipython",
    "version": 3
   },
   "file_extension": ".py",
   "mimetype": "text/x-python",
   "name": "python",
   "nbconvert_exporter": "python",
   "pygments_lexer": "ipython3",
   "version": "3.9.6"
  }
 },
 "nbformat": 4,
 "nbformat_minor": 2
}
